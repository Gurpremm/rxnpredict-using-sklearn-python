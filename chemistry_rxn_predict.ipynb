{
 "cells": [
  {
   "cell_type": "code",
   "execution_count": 67,
   "metadata": {},
   "outputs": [],
   "source": [
    "import os, sys\n",
    "import pandas as pd\n",
    "import numpy as np\n",
    "\n",
    "from sklearn.pipeline import Pipeline\n",
    "from sklearn.model_selection import train_test_split, RandomizedSearchCV\n",
    "from sklearn.preprocessing import StandardScaler\n",
    "from sklearn.neural_network import MLPRegressor, BernoulliRBM\n",
    "from sklearn.externals import joblib\n",
    "from sklearn.model_selection import cross_val_score\n",
    "\n",
    "import matplotlib as mp\n",
    "import matplotlib.pyplot as plt\n",
    "import pylab as pl\n",
    "\n",
    "%matplotlib inline"
   ]
  },
  {
   "cell_type": "code",
   "execution_count": 68,
   "metadata": {},
   "outputs": [],
   "source": [
    "# update fonts\n",
    "FONTSIZE = 32\n",
    "font = {'family' : 'sans-serif',\n",
    "        'weight' : 'normal',\n",
    "        'size'   : 28}\n",
    "\n",
    "mp.rc('font', **font)"
   ]
  },
  {
   "cell_type": "code",
   "execution_count": 81,
   "metadata": {},
   "outputs": [
    {
     "name": "stdout",
     "output_type": "stream",
     "text": [
      "['alcohol_.C1_electrostatic_charge', 'alcohol_.C1_exposed_area', 'alcohol_electronegativity', 'alcohol_primary', 'alcohol_secondary', 'alcohol_tertiary', 'alcohol_cyclic', 'alcohol_4.membered_ring', 'alcohol_5.membered_ring', 'alcohol_6.membered_ring', 'alcohol_7.membered_ring', 'alcohol_benzylic', 'alcohol_allylic', 'alcohol_homobenzylic', 'alcohol_homoallylic', 'alcohol_alpha.carbonyl', 'alcohol_beta_carbonyl', 'alcohol_hemiacetal', 'alcohol_alpha.amino', 'base_.N1_exposed_area', 'sulfonyl_fluoride_.S1_electrostatic_charge', 'sulfonyl_fluoride_.F1_electrostatic_charge', 'sulfonyl_fluoride_.O1_electrostatic_charge']\n"
     ]
    },
    {
     "data": {
      "text/html": [
       "<div>\n",
       "<style scoped>\n",
       "    .dataframe tbody tr th:only-of-type {\n",
       "        vertical-align: middle;\n",
       "    }\n",
       "\n",
       "    .dataframe tbody tr th {\n",
       "        vertical-align: top;\n",
       "    }\n",
       "\n",
       "    .dataframe thead th {\n",
       "        text-align: right;\n",
       "    }\n",
       "</style>\n",
       "<table border=\"1\" class=\"dataframe\">\n",
       "  <thead>\n",
       "    <tr style=\"text-align: right;\">\n",
       "      <th></th>\n",
       "      <th>alcohol_.C1_electrostatic_charge</th>\n",
       "      <th>alcohol_.C1_exposed_area</th>\n",
       "      <th>alcohol_electronegativity</th>\n",
       "      <th>alcohol_primary</th>\n",
       "      <th>alcohol_secondary</th>\n",
       "      <th>alcohol_tertiary</th>\n",
       "      <th>alcohol_cyclic</th>\n",
       "      <th>alcohol_4.membered_ring</th>\n",
       "      <th>alcohol_5.membered_ring</th>\n",
       "      <th>alcohol_6.membered_ring</th>\n",
       "      <th>...</th>\n",
       "      <th>alcohol_homoallylic</th>\n",
       "      <th>alcohol_alpha.carbonyl</th>\n",
       "      <th>alcohol_beta_carbonyl</th>\n",
       "      <th>alcohol_hemiacetal</th>\n",
       "      <th>alcohol_alpha.amino</th>\n",
       "      <th>base_.N1_exposed_area</th>\n",
       "      <th>sulfonyl_fluoride_.S1_electrostatic_charge</th>\n",
       "      <th>sulfonyl_fluoride_.F1_electrostatic_charge</th>\n",
       "      <th>sulfonyl_fluoride_.O1_electrostatic_charge</th>\n",
       "      <th>yield</th>\n",
       "    </tr>\n",
       "  </thead>\n",
       "  <tbody>\n",
       "    <tr>\n",
       "      <th>0</th>\n",
       "      <td>-0.590356</td>\n",
       "      <td>1.104981</td>\n",
       "      <td>-0.270692</td>\n",
       "      <td>1.133007</td>\n",
       "      <td>-0.999218</td>\n",
       "      <td>-0.257997</td>\n",
       "      <td>-0.723181</td>\n",
       "      <td>-0.179465</td>\n",
       "      <td>-0.429995</td>\n",
       "      <td>-0.429995</td>\n",
       "      <td>...</td>\n",
       "      <td>-0.179465</td>\n",
       "      <td>-0.257997</td>\n",
       "      <td>-0.179465</td>\n",
       "      <td>-0.179465</td>\n",
       "      <td>-0.321382</td>\n",
       "      <td>1.521896</td>\n",
       "      <td>0.674392</td>\n",
       "      <td>-0.768559</td>\n",
       "      <td>-0.967078</td>\n",
       "      <td>42</td>\n",
       "    </tr>\n",
       "    <tr>\n",
       "      <th>1</th>\n",
       "      <td>-0.590356</td>\n",
       "      <td>1.104981</td>\n",
       "      <td>-0.270692</td>\n",
       "      <td>1.133007</td>\n",
       "      <td>-0.999218</td>\n",
       "      <td>-0.257997</td>\n",
       "      <td>-0.723181</td>\n",
       "      <td>-0.179465</td>\n",
       "      <td>-0.429995</td>\n",
       "      <td>-0.429995</td>\n",
       "      <td>...</td>\n",
       "      <td>-0.179465</td>\n",
       "      <td>-0.257997</td>\n",
       "      <td>-0.179465</td>\n",
       "      <td>-0.179465</td>\n",
       "      <td>-0.321382</td>\n",
       "      <td>1.521896</td>\n",
       "      <td>-1.844421</td>\n",
       "      <td>-0.090419</td>\n",
       "      <td>0.782873</td>\n",
       "      <td>48</td>\n",
       "    </tr>\n",
       "    <tr>\n",
       "      <th>2</th>\n",
       "      <td>-0.590356</td>\n",
       "      <td>1.104981</td>\n",
       "      <td>-0.270692</td>\n",
       "      <td>1.133007</td>\n",
       "      <td>-0.999218</td>\n",
       "      <td>-0.257997</td>\n",
       "      <td>-0.723181</td>\n",
       "      <td>-0.179465</td>\n",
       "      <td>-0.429995</td>\n",
       "      <td>-0.429995</td>\n",
       "      <td>...</td>\n",
       "      <td>-0.179465</td>\n",
       "      <td>-0.257997</td>\n",
       "      <td>-0.179465</td>\n",
       "      <td>-0.179465</td>\n",
       "      <td>-0.321382</td>\n",
       "      <td>1.521896</td>\n",
       "      <td>0.775957</td>\n",
       "      <td>-0.655535</td>\n",
       "      <td>-0.828924</td>\n",
       "      <td>47</td>\n",
       "    </tr>\n",
       "    <tr>\n",
       "      <th>3</th>\n",
       "      <td>-0.590356</td>\n",
       "      <td>1.104981</td>\n",
       "      <td>-0.270692</td>\n",
       "      <td>1.133007</td>\n",
       "      <td>-0.999218</td>\n",
       "      <td>-0.257997</td>\n",
       "      <td>-0.723181</td>\n",
       "      <td>-0.179465</td>\n",
       "      <td>-0.429995</td>\n",
       "      <td>-0.429995</td>\n",
       "      <td>...</td>\n",
       "      <td>-0.179465</td>\n",
       "      <td>-0.257997</td>\n",
       "      <td>-0.179465</td>\n",
       "      <td>-0.179465</td>\n",
       "      <td>-0.321382</td>\n",
       "      <td>1.521896</td>\n",
       "      <td>0.674392</td>\n",
       "      <td>-0.429489</td>\n",
       "      <td>-0.552616</td>\n",
       "      <td>52</td>\n",
       "    </tr>\n",
       "    <tr>\n",
       "      <th>4</th>\n",
       "      <td>-0.590356</td>\n",
       "      <td>1.104981</td>\n",
       "      <td>-0.270692</td>\n",
       "      <td>1.133007</td>\n",
       "      <td>-0.999218</td>\n",
       "      <td>-0.257997</td>\n",
       "      <td>-0.723181</td>\n",
       "      <td>-0.179465</td>\n",
       "      <td>-0.429995</td>\n",
       "      <td>-0.429995</td>\n",
       "      <td>...</td>\n",
       "      <td>-0.179465</td>\n",
       "      <td>-0.257997</td>\n",
       "      <td>-0.179465</td>\n",
       "      <td>-0.179465</td>\n",
       "      <td>-0.321382</td>\n",
       "      <td>1.521896</td>\n",
       "      <td>-0.280320</td>\n",
       "      <td>1.944002</td>\n",
       "      <td>1.565745</td>\n",
       "      <td>52</td>\n",
       "    </tr>\n",
       "    <tr>\n",
       "      <th>5</th>\n",
       "      <td>-0.590356</td>\n",
       "      <td>1.104981</td>\n",
       "      <td>-0.270692</td>\n",
       "      <td>1.133007</td>\n",
       "      <td>-0.999218</td>\n",
       "      <td>-0.257997</td>\n",
       "      <td>-0.723181</td>\n",
       "      <td>-0.179465</td>\n",
       "      <td>-0.429995</td>\n",
       "      <td>-0.429995</td>\n",
       "      <td>...</td>\n",
       "      <td>-0.179465</td>\n",
       "      <td>-0.257997</td>\n",
       "      <td>-0.179465</td>\n",
       "      <td>-0.179465</td>\n",
       "      <td>-0.321382</td>\n",
       "      <td>0.194423</td>\n",
       "      <td>0.674392</td>\n",
       "      <td>-0.768559</td>\n",
       "      <td>-0.967078</td>\n",
       "      <td>76</td>\n",
       "    </tr>\n",
       "    <tr>\n",
       "      <th>6</th>\n",
       "      <td>-0.590356</td>\n",
       "      <td>1.104981</td>\n",
       "      <td>-0.270692</td>\n",
       "      <td>1.133007</td>\n",
       "      <td>-0.999218</td>\n",
       "      <td>-0.257997</td>\n",
       "      <td>-0.723181</td>\n",
       "      <td>-0.179465</td>\n",
       "      <td>-0.429995</td>\n",
       "      <td>-0.429995</td>\n",
       "      <td>...</td>\n",
       "      <td>-0.179465</td>\n",
       "      <td>-0.257997</td>\n",
       "      <td>-0.179465</td>\n",
       "      <td>-0.179465</td>\n",
       "      <td>-0.321382</td>\n",
       "      <td>0.194423</td>\n",
       "      <td>-1.844421</td>\n",
       "      <td>-0.090419</td>\n",
       "      <td>0.782873</td>\n",
       "      <td>78</td>\n",
       "    </tr>\n",
       "    <tr>\n",
       "      <th>7</th>\n",
       "      <td>-0.590356</td>\n",
       "      <td>1.104981</td>\n",
       "      <td>-0.270692</td>\n",
       "      <td>1.133007</td>\n",
       "      <td>-0.999218</td>\n",
       "      <td>-0.257997</td>\n",
       "      <td>-0.723181</td>\n",
       "      <td>-0.179465</td>\n",
       "      <td>-0.429995</td>\n",
       "      <td>-0.429995</td>\n",
       "      <td>...</td>\n",
       "      <td>-0.179465</td>\n",
       "      <td>-0.257997</td>\n",
       "      <td>-0.179465</td>\n",
       "      <td>-0.179465</td>\n",
       "      <td>-0.321382</td>\n",
       "      <td>0.194423</td>\n",
       "      <td>0.775957</td>\n",
       "      <td>-0.655535</td>\n",
       "      <td>-0.828924</td>\n",
       "      <td>87</td>\n",
       "    </tr>\n",
       "    <tr>\n",
       "      <th>8</th>\n",
       "      <td>-0.590356</td>\n",
       "      <td>1.104981</td>\n",
       "      <td>-0.270692</td>\n",
       "      <td>1.133007</td>\n",
       "      <td>-0.999218</td>\n",
       "      <td>-0.257997</td>\n",
       "      <td>-0.723181</td>\n",
       "      <td>-0.179465</td>\n",
       "      <td>-0.429995</td>\n",
       "      <td>-0.429995</td>\n",
       "      <td>...</td>\n",
       "      <td>-0.179465</td>\n",
       "      <td>-0.257997</td>\n",
       "      <td>-0.179465</td>\n",
       "      <td>-0.179465</td>\n",
       "      <td>-0.321382</td>\n",
       "      <td>0.194423</td>\n",
       "      <td>0.674392</td>\n",
       "      <td>-0.429489</td>\n",
       "      <td>-0.552616</td>\n",
       "      <td>82</td>\n",
       "    </tr>\n",
       "    <tr>\n",
       "      <th>9</th>\n",
       "      <td>-0.590356</td>\n",
       "      <td>1.104981</td>\n",
       "      <td>-0.270692</td>\n",
       "      <td>1.133007</td>\n",
       "      <td>-0.999218</td>\n",
       "      <td>-0.257997</td>\n",
       "      <td>-0.723181</td>\n",
       "      <td>-0.179465</td>\n",
       "      <td>-0.429995</td>\n",
       "      <td>-0.429995</td>\n",
       "      <td>...</td>\n",
       "      <td>-0.179465</td>\n",
       "      <td>-0.257997</td>\n",
       "      <td>-0.179465</td>\n",
       "      <td>-0.179465</td>\n",
       "      <td>-0.321382</td>\n",
       "      <td>0.194423</td>\n",
       "      <td>-0.280320</td>\n",
       "      <td>1.944002</td>\n",
       "      <td>1.565745</td>\n",
       "      <td>80</td>\n",
       "    </tr>\n",
       "  </tbody>\n",
       "</table>\n",
       "<p>10 rows × 24 columns</p>\n",
       "</div>"
      ],
      "text/plain": [
       "   alcohol_.C1_electrostatic_charge  alcohol_.C1_exposed_area  \\\n",
       "0                         -0.590356                  1.104981   \n",
       "1                         -0.590356                  1.104981   \n",
       "2                         -0.590356                  1.104981   \n",
       "3                         -0.590356                  1.104981   \n",
       "4                         -0.590356                  1.104981   \n",
       "5                         -0.590356                  1.104981   \n",
       "6                         -0.590356                  1.104981   \n",
       "7                         -0.590356                  1.104981   \n",
       "8                         -0.590356                  1.104981   \n",
       "9                         -0.590356                  1.104981   \n",
       "\n",
       "   alcohol_electronegativity  alcohol_primary  alcohol_secondary  \\\n",
       "0                  -0.270692         1.133007          -0.999218   \n",
       "1                  -0.270692         1.133007          -0.999218   \n",
       "2                  -0.270692         1.133007          -0.999218   \n",
       "3                  -0.270692         1.133007          -0.999218   \n",
       "4                  -0.270692         1.133007          -0.999218   \n",
       "5                  -0.270692         1.133007          -0.999218   \n",
       "6                  -0.270692         1.133007          -0.999218   \n",
       "7                  -0.270692         1.133007          -0.999218   \n",
       "8                  -0.270692         1.133007          -0.999218   \n",
       "9                  -0.270692         1.133007          -0.999218   \n",
       "\n",
       "   alcohol_tertiary  alcohol_cyclic  alcohol_4.membered_ring  \\\n",
       "0         -0.257997       -0.723181                -0.179465   \n",
       "1         -0.257997       -0.723181                -0.179465   \n",
       "2         -0.257997       -0.723181                -0.179465   \n",
       "3         -0.257997       -0.723181                -0.179465   \n",
       "4         -0.257997       -0.723181                -0.179465   \n",
       "5         -0.257997       -0.723181                -0.179465   \n",
       "6         -0.257997       -0.723181                -0.179465   \n",
       "7         -0.257997       -0.723181                -0.179465   \n",
       "8         -0.257997       -0.723181                -0.179465   \n",
       "9         -0.257997       -0.723181                -0.179465   \n",
       "\n",
       "   alcohol_5.membered_ring  alcohol_6.membered_ring  ...    \\\n",
       "0                -0.429995                -0.429995  ...     \n",
       "1                -0.429995                -0.429995  ...     \n",
       "2                -0.429995                -0.429995  ...     \n",
       "3                -0.429995                -0.429995  ...     \n",
       "4                -0.429995                -0.429995  ...     \n",
       "5                -0.429995                -0.429995  ...     \n",
       "6                -0.429995                -0.429995  ...     \n",
       "7                -0.429995                -0.429995  ...     \n",
       "8                -0.429995                -0.429995  ...     \n",
       "9                -0.429995                -0.429995  ...     \n",
       "\n",
       "   alcohol_homoallylic  alcohol_alpha.carbonyl  alcohol_beta_carbonyl  \\\n",
       "0            -0.179465               -0.257997              -0.179465   \n",
       "1            -0.179465               -0.257997              -0.179465   \n",
       "2            -0.179465               -0.257997              -0.179465   \n",
       "3            -0.179465               -0.257997              -0.179465   \n",
       "4            -0.179465               -0.257997              -0.179465   \n",
       "5            -0.179465               -0.257997              -0.179465   \n",
       "6            -0.179465               -0.257997              -0.179465   \n",
       "7            -0.179465               -0.257997              -0.179465   \n",
       "8            -0.179465               -0.257997              -0.179465   \n",
       "9            -0.179465               -0.257997              -0.179465   \n",
       "\n",
       "   alcohol_hemiacetal  alcohol_alpha.amino  base_.N1_exposed_area  \\\n",
       "0           -0.179465            -0.321382               1.521896   \n",
       "1           -0.179465            -0.321382               1.521896   \n",
       "2           -0.179465            -0.321382               1.521896   \n",
       "3           -0.179465            -0.321382               1.521896   \n",
       "4           -0.179465            -0.321382               1.521896   \n",
       "5           -0.179465            -0.321382               0.194423   \n",
       "6           -0.179465            -0.321382               0.194423   \n",
       "7           -0.179465            -0.321382               0.194423   \n",
       "8           -0.179465            -0.321382               0.194423   \n",
       "9           -0.179465            -0.321382               0.194423   \n",
       "\n",
       "   sulfonyl_fluoride_.S1_electrostatic_charge  \\\n",
       "0                                    0.674392   \n",
       "1                                   -1.844421   \n",
       "2                                    0.775957   \n",
       "3                                    0.674392   \n",
       "4                                   -0.280320   \n",
       "5                                    0.674392   \n",
       "6                                   -1.844421   \n",
       "7                                    0.775957   \n",
       "8                                    0.674392   \n",
       "9                                   -0.280320   \n",
       "\n",
       "   sulfonyl_fluoride_.F1_electrostatic_charge  \\\n",
       "0                                   -0.768559   \n",
       "1                                   -0.090419   \n",
       "2                                   -0.655535   \n",
       "3                                   -0.429489   \n",
       "4                                    1.944002   \n",
       "5                                   -0.768559   \n",
       "6                                   -0.090419   \n",
       "7                                   -0.655535   \n",
       "8                                   -0.429489   \n",
       "9                                    1.944002   \n",
       "\n",
       "   sulfonyl_fluoride_.O1_electrostatic_charge  yield  \n",
       "0                                   -0.967078     42  \n",
       "1                                    0.782873     48  \n",
       "2                                   -0.828924     47  \n",
       "3                                   -0.552616     52  \n",
       "4                                    1.565745     52  \n",
       "5                                   -0.967078     76  \n",
       "6                                    0.782873     78  \n",
       "7                                   -0.828924     87  \n",
       "8                                   -0.552616     82  \n",
       "9                                    1.565745     80  \n",
       "\n",
       "[10 rows x 24 columns]"
      ]
     },
     "execution_count": 81,
     "metadata": {},
     "output_type": "execute_result"
    }
   ],
   "source": [
    "organic = pd.read_csv('../datasets/descriptor_table.csv')\n",
    "external =pd.read_csv('../datasets/external_set_chem.csv')\n",
    "names= organic.keys().tolist()\n",
    "ext_names=external.keys().tolist()\n",
    "inputs = names[:-1]\n",
    "ext_inputs = ext_names[:-1]\n",
    "print inputs\n",
    "organic[0:10]"
   ]
  },
  {
   "cell_type": "code",
   "execution_count": 184,
   "metadata": {},
   "outputs": [
    {
     "name": "stdout",
     "output_type": "stream",
     "text": [
      "(512, 24) (128, 24)\n"
     ]
    }
   ],
   "source": [
    "test_fraction = 0.20\n",
    "train_data, test_data = train_test_split(organic, test_size=test_fraction)\n",
    "print train_data.shape, test_data.shape"
   ]
  },
  {
   "cell_type": "code",
   "execution_count": 185,
   "metadata": {},
   "outputs": [
    {
     "data": {
      "text/plain": [
       "((640, 23), (640,))"
      ]
     },
     "execution_count": 185,
     "metadata": {},
     "output_type": "execute_result"
    }
   ],
   "source": [
    "X= organic[inputs]\n",
    "y= organic['yield']\n",
    "X.shape, y.shape"
   ]
  },
  {
   "cell_type": "code",
   "execution_count": 186,
   "metadata": {},
   "outputs": [],
   "source": [
    "ext_X = external[ext_inputs]\n",
    "ext_Y = external['yield']"
   ]
  },
  {
   "cell_type": "code",
   "execution_count": 187,
   "metadata": {},
   "outputs": [],
   "source": [
    "\n",
    "def standardize_data(train_data, test_data, names):\n",
    "    scaler  = StandardScaler()\n",
    "    scaler.fit(train_data[names])\n",
    "    \n",
    "    X_train = scaler.transform(train_data[names])\n",
    "    y_train = train_data['yield']\n",
    "    \n",
    "    X_test  = scaler.transform(test_data[names])\n",
    "    y_test  = test_data['yield']\n",
    "    return (X_train, X_test, y_train, y_test, scaler)\n"
   ]
  },
  {
   "cell_type": "code",
   "execution_count": 188,
   "metadata": {},
   "outputs": [
    {
     "name": "stdout",
     "output_type": "stream",
     "text": [
      "(512, 23)\n"
     ]
    },
    {
     "data": {
      "text/plain": [
       "(128, 23)"
      ]
     },
     "execution_count": 188,
     "metadata": {},
     "output_type": "execute_result"
    }
   ],
   "source": [
    "X_train, X_test, y_train, y_test, scaler = standardize_data(train_data, test_data, inputs)\n",
    "\n",
    "print(X_train.shape)\n",
    "X_test.shape\n"
   ]
  },
  {
   "cell_type": "code",
   "execution_count": 189,
   "metadata": {},
   "outputs": [
    {
     "name": "stdout",
     "output_type": "stream",
     "text": [
      "(512, 23)\n"
     ]
    },
    {
     "data": {
      "text/plain": [
       "(128, 23)"
      ]
     },
     "execution_count": 189,
     "metadata": {},
     "output_type": "execute_result"
    }
   ],
   "source": [
    "XTR= X_train\n",
    "XTS =X_test\n",
    "print(XTR.shape)\n",
    "XTS.shape"
   ]
  },
  {
   "cell_type": "code",
   "execution_count": 190,
   "metadata": {},
   "outputs": [
    {
     "data": {
      "text/plain": [
       "\"\\nimport numpy as np\\nfrom sklearn.decomposition import PCA\\n\\npca = PCA(copy=True, iterated_power='auto', n_components=22, random_state=None,\\n         svd_solver='arpack', tol=0.0, whiten=False)\\npca.fit(XTR)\\npca.fit(XTS)\\nXTR = pca.transform(XTR)\\nXTS = pca.transform(XTS)\\nprint(pca.explained_variance_ratio_)  \\n\\nprint(pca.singular_values_) \\n\\nprint(XTR.shape)\\nXTS.shape\\n\""
      ]
     },
     "execution_count": 190,
     "metadata": {},
     "output_type": "execute_result"
    }
   ],
   "source": [
    "'''\n",
    "import numpy as np\n",
    "from sklearn.decomposition import PCA\n",
    "\n",
    "pca = PCA(copy=True, iterated_power='auto', n_components=22, random_state=None,\n",
    "         svd_solver='arpack', tol=0.0, whiten=False)\n",
    "pca.fit(XTR)\n",
    "pca.fit(XTS)\n",
    "XTR = pca.transform(XTR)\n",
    "XTS = pca.transform(XTS)\n",
    "print(pca.explained_variance_ratio_)  \n",
    "\n",
    "print(pca.singular_values_) \n",
    "\n",
    "print(XTR.shape)\n",
    "XTS.shape\n",
    "'''"
   ]
  },
  {
   "cell_type": "code",
   "execution_count": 191,
   "metadata": {},
   "outputs": [],
   "source": [
    "\n",
    "dnn = MLPRegressor(hidden_layer_sizes=(50,25), \n",
    "                    max_iter=600, \n",
    "                    alpha=0.2,\n",
    "                    solver='sgd', \n",
    "                    activation='tanh', batch_size='auto', learning_rate='adaptive',\n",
    "                    verbose=0, \n",
    "                    tol=1e-6, \n",
    "                    warm_start=True,shuffle=True,validation_fraction=0.2,\n",
    "                    random_state=1)\n",
    "# possible combinations of params\n",
    "\n",
    "\n",
    "param_grid = {'alpha':[0.1,1,10],\n",
    "              \"solver\": [\"sgd\", \"adam\"], \"activation\": ['tanh','relu'],\n",
    "              \"max_iter\": [520,550,600],\n",
    "              \"hidden_layer_sizes\": [(20),(20, 20),(35, 10, 10),(35,15),(35)]}\n"
   ]
  },
  {
   "cell_type": "code",
   "execution_count": 192,
   "metadata": {
    "scrolled": true
   },
   "outputs": [],
   "source": [
    "#rcv = RandomizedSearchCV(dnn,param_grid, n_iter=2, verbose=2)\n",
    "#rcv= RandomizedSearchCV(dnn, param_grid, n_iter=3, scoring=None, fit_params=None, n_jobs=1, iid=True,\n",
    "                        #refit=True, cv=None,verbose=1, random_state=None, error_score='raise', return_train_score='warn')\n",
    "#rcv= GridSearchCV(dnn, param_grid, scoring=None, fit_params=None, n_jobs=1, iid=True, \n",
    "                 # refit=True, cv=None, verbose=1, pre_dispatch='2*n_jobs',error_score='raise')\n",
    "#rcv.fit(X_train, y_train)\n",
    "#dnn = rcv.best_estimator_\n",
    "#dnn.fit[X_train, y_train]\n",
    "#print \"Best set of parameters: %s\" % rcv.best_params_"
   ]
  },
  {
   "cell_type": "code",
   "execution_count": 193,
   "metadata": {},
   "outputs": [
    {
     "data": {
      "text/plain": [
       "\"'\\ndnn = MLPClassifier(hidden_layer_sizes=(10,10), \\n              activation='tanh', \\n              solver='sgd', alpha=0.0001, batch_size='auto', learning_rate='adaptive', \\n              learning_rate_init=0.005, max_iter=200, tol=0.0001, verbose=False, early_stopping=False)\\n\""
      ]
     },
     "execution_count": 193,
     "metadata": {},
     "output_type": "execute_result"
    }
   ],
   "source": [
    "''''\n",
    "dnn = MLPClassifier(hidden_layer_sizes=(10,10), \n",
    "              activation='tanh', \n",
    "              solver='sgd', alpha=0.0001, batch_size='auto', learning_rate='adaptive', \n",
    "              learning_rate_init=0.005, max_iter=200, tol=0.0001, verbose=False, early_stopping=False)\n",
    "'''"
   ]
  },
  {
   "cell_type": "code",
   "execution_count": 194,
   "metadata": {},
   "outputs": [
    {
     "name": "stdout",
     "output_type": "stream",
     "text": [
      "*** TRAINING ***\n",
      "Training set score: 0.968676\n",
      "Test set score:     0.898250\n"
     ]
    }
   ],
   "source": [
    "print \"*** TRAINING ***\"\n",
    "dnn.fit(X_train, y_train)\n",
    "#scores = cross_val_score(dnn, organic[inputs], organic['yield'], cv=5)\n",
    "print(\"Training set score: %f\" % dnn.score(X_train, y_train))      \n",
    "print(\"Test set score:     %f\" % dnn.score(X_test, y_test))\n",
    "#filename = '02_dnn_organic.pkl'\n",
    "#print \"save to %s\" % filename\n",
    "#joblib.dump(dnn, filename)\n",
    "#print(scores)"
   ]
  },
  {
   "cell_type": "code",
   "execution_count": 195,
   "metadata": {},
   "outputs": [
    {
     "name": "stdout",
     "output_type": "stream",
     "text": [
      "0.8982502544317044\n",
      "9.3530442588\n"
     ]
    }
   ],
   "source": [
    "from sklearn.metrics import r2_score, mean_squared_error\n",
    "from math import sqrt\n",
    "pr = dnn.predict(X_test)\n",
    "r2= r2_score(y_test, pr)  \n",
    "rmse= sqrt ( mean_squared_error(y_test, pr))\n",
    "print r2\n",
    "print rmse "
   ]
  },
  {
   "cell_type": "code",
   "execution_count": 196,
   "metadata": {},
   "outputs": [
    {
     "name": "stdout",
     "output_type": "stream",
     "text": [
      "-1.0526613338850557\n",
      "33.3466074704\n"
     ]
    }
   ],
   "source": [
    "ext_pr=dnn.predict(ext_X)\n",
    "r2_ext=r2_score(ext_Y,ext_pr)\n",
    "rmse_ext=sqrt(mean_squared_error(ext_Y,ext_pr))\n",
    "print r2_ext\n",
    "print rmse_ext"
   ]
  },
  {
   "cell_type": "code",
   "execution_count": 197,
   "metadata": {},
   "outputs": [
    {
     "data": {
      "text/plain": [
       "array([37.19811276, 37.64791761, 37.1723734 , 37.18028767, 37.25321223,\n",
       "       41.57685967, 41.98642395, 41.55564645, 41.56524558, 41.64822442])"
      ]
     },
     "execution_count": 197,
     "metadata": {},
     "output_type": "execute_result"
    }
   ],
   "source": [
    "ext_pr[0:10]"
   ]
  },
  {
   "cell_type": "code",
   "execution_count": 198,
   "metadata": {},
   "outputs": [
    {
     "data": {
      "text/plain": [
       "'\\nprint \"*** TRAINING ***\"\\ndnn.fit(X_train, y_train)\\n\\nprint(\"Training set score: %f\" % dnn.score(X_train, y_train))      \\nprint(\"Test set score:     %f\" % dnn.score(X_test, y_test))\\nfilename = \\'02_dnn_organic1.pkl\\'\\nprint \"save to %s\" % filename\\njoblib.dump(dnn, filename)\\n\\n'"
      ]
     },
     "execution_count": 198,
     "metadata": {},
     "output_type": "execute_result"
    }
   ],
   "source": [
    "'''\n",
    "print \"*** TRAINING ***\"\n",
    "dnn.fit(X_train, y_train)\n",
    "\n",
    "print(\"Training set score: %f\" % dnn.score(X_train, y_train))      \n",
    "print(\"Test set score:     %f\" % dnn.score(X_test, y_test))\n",
    "filename = '02_dnn_organic1.pkl'\n",
    "print \"save to %s\" % filename\n",
    "joblib.dump(dnn, filename)\n",
    "\n",
    "'''"
   ]
  },
  {
   "cell_type": "code",
   "execution_count": 199,
   "metadata": {},
   "outputs": [
    {
     "data": {
      "text/plain": [
       "0.8982502544317044"
      ]
     },
     "execution_count": 199,
     "metadata": {},
     "output_type": "execute_result"
    }
   ],
   "source": [
    "from sklearn.metrics import r2_score\n",
    "p = dnn.predict(X_test)\n",
    "r2_score(y_test, p)  "
   ]
  },
  {
   "cell_type": "code",
   "execution_count": 200,
   "metadata": {},
   "outputs": [],
   "source": [
    "def plotLoss(dnn, ftsize=FONTSIZE):\n",
    "    y    = dnn.loss_curve_\n",
    "    x    = np.array(range(len(y)))+1\n",
    "\n",
    "    ymin = 0.8*min(y)\n",
    "    ymax = 1.2*max(y)\n",
    "    epoch= range(len(y))\n",
    "    xmin = 0\n",
    "    xmax = len(x)\n",
    "    \n",
    "    # set size of figure\n",
    "    plt.figure(figsize=(8,4));\n",
    "\n",
    "    # get axis info\n",
    "    axes = plt.gca()\n",
    "    # set axes' limits\n",
    "    axes.set_xlim(xmin, xmax)\n",
    "    axes.set_ylim(ymin, ymax)\n",
    "    \n",
    "    # annotate axes\n",
    "    plt.xlabel(r'epoch', fontsize=ftsize)\n",
    "    plt.ylabel(r'loss',  fontsize=ftsize)\n",
    "    \n",
    "    # choose color of points\n",
    "    plt.plot(x, y, 'b-')\n",
    "    plt.savefig('02_dnn_wine_loss.png')\n",
    "    plt.show()"
   ]
  },
  {
   "cell_type": "code",
   "execution_count": null,
   "metadata": {},
   "outputs": [],
   "source": []
  },
  {
   "cell_type": "code",
   "execution_count": 201,
   "metadata": {},
   "outputs": [
    {
     "data": {
      "image/png": "[encoded data removed]",
      "text/plain": [
       "<matplotlib.figure.Figure at 0x1a18bec410>"
      ]
     },
     "metadata": {},
     "output_type": "display_data"
    }
   ],
   "source": [
    "plotLoss(dnn)"
   ]
  },
  {
   "cell_type": "code",
   "execution_count": 202,
   "metadata": {},
   "outputs": [
    {
     "data": {
      "text/plain": [
       "'\\nfrom sklearn.metrics import r2_score, mean_squared_error, make_scorer\\nfrom sklearn.grid_search import GridSearchCV\\nfrom sklearn.linear_model import Ridge\\n\\ndef MSE(y_true,y_pred):\\n    mse = mean_squared_error(y_true, y_pred)\\n    print \\'MSE: %2.3f\\' % mse\\n    return mse\\n\\ndef R2(y_true,y_pred):    \\n     r2 = r2_score(y_true, y_pred)\\n     print \\'R2: %2.3f\\' % r2\\n     return r2\\n\\ndef two_score(y_true,y_pred):    \\n    MSE(y_true,y_pred) #set score here and not below if using MSE in GridCV\\n    score = R2(y_true,y_pred)\\n    return score\\n\\ndef two_scorer():\\n    return make_scorer(two_score, greater_is_better=True) # change for false if using MSE\\n\\nmodel = Ridge()\\nparam_grid = {\\'alpha\\':[0.1,1,10]}\\n#X_train = [[1,2],[1,5],[-3,2],[3,7],[-1,1],[0,-1]]\\n#y_train = [1,0,1,0,3,5]\\ngrid = GridSearchCV(dnn, param_grid, scoring=two_scorer())\\n\\ngrid.fit(X_train, y_train)\\nbest_params = grid.best_params_\\nmodel = grid.best_estimator_\\nscore = grid.best_score_\\nfor item in grid.grid_scores_:\\n    print \"\\t%s %s %s\" % (\\'\\tGRIDSCORES\\t\\',  \"R\" , item)\\nprint \\'%s\\tHP\\t%s\\t%f\\' % (\"R\" , str(best_params) ,abs(score))\\n'"
      ]
     },
     "execution_count": 202,
     "metadata": {},
     "output_type": "execute_result"
    }
   ],
   "source": [
    "'''\n",
    "from sklearn.metrics import r2_score, mean_squared_error, make_scorer\n",
    "from sklearn.grid_search import GridSearchCV\n",
    "from sklearn.linear_model import Ridge\n",
    "\n",
    "def MSE(y_true,y_pred):\n",
    "    mse = mean_squared_error(y_true, y_pred)\n",
    "    print 'MSE: %2.3f' % mse\n",
    "    return mse\n",
    "\n",
    "def R2(y_true,y_pred):    \n",
    "     r2 = r2_score(y_true, y_pred)\n",
    "     print 'R2: %2.3f' % r2\n",
    "     return r2\n",
    "\n",
    "def two_score(y_true,y_pred):    \n",
    "    MSE(y_true,y_pred) #set score here and not below if using MSE in GridCV\n",
    "    score = R2(y_true,y_pred)\n",
    "    return score\n",
    "\n",
    "def two_scorer():\n",
    "    return make_scorer(two_score, greater_is_better=True) # change for false if using MSE\n",
    "\n",
    "model = Ridge()\n",
    "param_grid = {'alpha':[0.1,1,10]}\n",
    "#X_train = [[1,2],[1,5],[-3,2],[3,7],[-1,1],[0,-1]]\n",
    "#y_train = [1,0,1,0,3,5]\n",
    "grid = GridSearchCV(dnn, param_grid, scoring=two_scorer())\n",
    "\n",
    "grid.fit(X_train, y_train)\n",
    "best_params = grid.best_params_\n",
    "model = grid.best_estimator_\n",
    "score = grid.best_score_\n",
    "for item in grid.grid_scores_:\n",
    "    print \"\\t%s %s %s\" % ('\\tGRIDSCORES\\t',  \"R\" , item)\n",
    "print '%s\\tHP\\t%s\\t%f' % (\"R\" , str(best_params) ,abs(score))\n",
    "'''"
   ]
  },
  {
   "cell_type": "code",
   "execution_count": 203,
   "metadata": {},
   "outputs": [],
   "source": [
    "def plotResults(dnn, X_test, y_test, xmin=-2, xmax=100, ymin=-2, ymax=100, ftsize=FONTSIZE):\n",
    "    \n",
    "    p = dnn.predict(X_test)\n",
    "    # set size of figure\n",
    "    plt.figure(figsize=(10,10));\n",
    "\n",
    "    # get axis info\n",
    "    axes = plt.gca()\n",
    "    # set axes' limits\n",
    "    axes.set_xlim(xmin, xmax)\n",
    "    axes.set_ylim(ymin, ymax)\n",
    "    \n",
    "    # annotate axes\n",
    "    plt.xlabel(r'actual', fontsize=ftsize)\n",
    "    plt.ylabel(r'predicted', fontsize=ftsize)\n",
    "    \n",
    "    # choose color of points\n",
    "    blue= (0,0,1)\n",
    "    plt.scatter(y_test, p, marker='o', s=50, c=blue, alpha=0.2)    \n",
    "    plt.savefig('02_dnn_organic_results.png')\n",
    "    plt.show()\n",
    "   "
   ]
  },
  {
   "cell_type": "code",
   "execution_count": null,
   "metadata": {},
   "outputs": [],
   "source": []
  },
  {
   "cell_type": "code",
   "execution_count": 204,
   "metadata": {},
   "outputs": [
    {
     "data": {
      "image/png": "[encoded data removed]",
      "text/plain": [
       "<matplotlib.figure.Figure at 0x1a18bec050>"
      ]
     },
     "metadata": {},
     "output_type": "display_data"
    }
   ],
   "source": [
    "plotResults(dnn, X_test, y_test)"
   ]
  },
  {
   "cell_type": "code",
   "execution_count": 205,
   "metadata": {},
   "outputs": [
    {
     "ename": "IndentationError",
     "evalue": "unexpected indent (<ipython-input-205-0e6ff844615b>, line 2)",
     "output_type": "error",
     "traceback": [
      "\u001b[0;36m  File \u001b[0;32m\"<ipython-input-205-0e6ff844615b>\"\u001b[0;36m, line \u001b[0;32m2\u001b[0m\n\u001b[0;31m    [0,0,0.65,0,0,0,0,0,0,0,0,0,0.65,0,0,0,0,0,4.6,0,0.65,0,0,0,0,0,0,0,0,0,0,0,0,0,0,0,0,0,0,0,0,0,0,0,1.97,0.65,0,0,0,0,0,0.125,0,0,1.25,5,40]]\u001b[0m\n\u001b[0m    ^\u001b[0m\n\u001b[0;31mIndentationError\u001b[0m\u001b[0;31m:\u001b[0m unexpected indent\n"
     ]
    }
   ],
   "source": [
    "#test= [[0,0,0.65,0,0,0,0,0,0,0,0,0,0.65,0,0,0,0,0,4.6,0,0.65,0,0,0,0,0,0,0,0,0,0,0,0,0,0,0,0,0,0,0,0,0,0,0,1.97,0.65,0,0,0,0,0,0.125,0,0,1.25,5,40],\n",
    "       [0,0,0.65,0,0,0,0,0,0,0,0,0,0.65,0,0,0,0,0,4.6,0,0.65,0,0,0,0,0,0,0,0,0,0,0,0,0,0,0,0,0,0,0,0,0,0,0,1.97,0.65,0,0,0,0,0,0.125,0,0,1.25,5,40]]\n",
    "#shape=[58]\n",
    "#predicted= dnn.predict(test)"
   ]
  },
  {
   "cell_type": "code",
   "execution_count": null,
   "metadata": {},
   "outputs": [],
   "source": []
  },
  {
   "cell_type": "code",
   "execution_count": 206,
   "metadata": {},
   "outputs": [
    {
     "name": "stdout",
     "output_type": "stream",
     "text": [
      "Training set score: 0.964608\n",
      "Test set score:     0.876045\n"
     ]
    }
   ],
   "source": [
    "from sklearn import svm\n",
    "clf = svm.SVR(C=29095, cache_size=200, coef0=0.1, degree=3, epsilon=6, gamma='auto',\n",
    "            kernel='rbf', max_iter=-1, shrinking=True, tol=0.001, verbose=False)\n",
    "clf.fit(X_train, y_train) \n",
    "clf.predict(X_test)\n",
    "print(\"Training set score: %f\" % clf.score(X_train, y_train))      \n",
    "print(\"Test set score:     %f\" % clf.score(X_test,  y_test))"
   ]
  },
  {
   "cell_type": "code",
   "execution_count": 207,
   "metadata": {},
   "outputs": [
    {
     "name": "stdout",
     "output_type": "stream",
     "text": [
      "0.8760451845028927\n",
      "10.323287563\n"
     ]
    }
   ],
   "source": [
    "from sklearn.metrics import r2_score, mean_squared_error\n",
    "from math import sqrt\n",
    "pr = clf.predict(X_test)\n",
    "r2= r2_score(y_test, pr)  \n",
    "rmse= sqrt(mean_squared_error(y_test, pr))\n",
    "print r2\n",
    "print rmse"
   ]
  },
  {
   "cell_type": "code",
   "execution_count": 208,
   "metadata": {},
   "outputs": [
    {
     "name": "stdout",
     "output_type": "stream",
     "text": [
      "-7.113866854944762\n",
      "66.2989949804\n"
     ]
    },
    {
     "data": {
      "text/plain": [
       "array([34.85946293, 34.86373198, 34.85928607, 34.85946528, 34.86093497,\n",
       "       35.01767521, 35.02586562, 35.01736712, 35.01773286, 35.02082102])"
      ]
     },
     "execution_count": 208,
     "metadata": {},
     "output_type": "execute_result"
    }
   ],
   "source": [
    "ext_pr_svm=clf.predict(ext_X)\n",
    "r2_ext_svm=r2_score(ext_Y,ext_pr_svm)\n",
    "rmse_ext_svm=sqrt(mean_squared_error(ext_Y,ext_pr_svm))\n",
    "print r2_ext_svm\n",
    "print rmse_ext_svm\n",
    "ext_pr_svm[0:10]"
   ]
  },
  {
   "cell_type": "code",
   "execution_count": 209,
   "metadata": {},
   "outputs": [],
   "source": [
    "def plotResults(dnn, X_test, y_test, xmin=-2, xmax=100, ymin=-2, ymax=100, ftsize=FONTSIZE):\n",
    "    \n",
    "    p = clf.predict(X_test)\n",
    "    # set size of figure\n",
    "    plt.figure(figsize=(10,10));\n",
    "\n",
    "    # get axis info\n",
    "    axes = plt.gca()\n",
    "    # set axes' limits\n",
    "    axes.set_xlim(xmin, xmax)\n",
    "    axes.set_ylim(ymin, ymax)\n",
    "    \n",
    "    # annotate axes\n",
    "    plt.xlabel(r'actual', fontsize=ftsize)\n",
    "    plt.ylabel(r'predicted', fontsize=ftsize)\n",
    "    \n",
    "    # choose color of points\n",
    "    blue= (0,0,1)\n",
    "    plt.scatter(y_test, p, marker='o', s=50, c=blue, alpha=0.2)    \n",
    "    plt.savefig('02_clf_organic_results.png')\n",
    "    plt.show()\n",
    "   "
   ]
  },
  {
   "cell_type": "code",
   "execution_count": 210,
   "metadata": {},
   "outputs": [
    {
     "data": {
      "image/png": "[encoded data removed]",
      "text/plain": [
       "<matplotlib.figure.Figure at 0x1a18c62310>"
      ]
     },
     "metadata": {},
     "output_type": "display_data"
    }
   ],
   "source": [
    "plotResults(clf, X_test, y_test)"
   ]
  },
  {
   "cell_type": "code",
   "execution_count": null,
   "metadata": {},
   "outputs": [],
   "source": []
  },
  {
   "cell_type": "code",
   "execution_count": null,
   "metadata": {},
   "outputs": [],
   "source": []
  },
  {
   "cell_type": "code",
   "execution_count": null,
   "metadata": {},
   "outputs": [],
   "source": []
  },
  {
   "cell_type": "code",
   "execution_count": null,
   "metadata": {},
   "outputs": [],
   "source": []
  },
  {
   "cell_type": "code",
   "execution_count": null,
   "metadata": {},
   "outputs": [],
   "source": []
  },
  {
   "cell_type": "code",
   "execution_count": null,
   "metadata": {},
   "outputs": [],
   "source": []
  },
  {
   "cell_type": "code",
   "execution_count": 213,
   "metadata": {},
   "outputs": [
    {
     "name": "stdout",
     "output_type": "stream",
     "text": [
      "Training set score: 0.995111\n",
      "Test set score:     0.932567\n"
     ]
    }
   ],
   "source": [
    "from sklearn.ensemble import GradientBoostingRegressor\n",
    "\n",
    "est = GradientBoostingRegressor(n_estimators=40, learning_rate=0.5,max_depth=5, \n",
    "                                random_state=0, loss='ls',criterion= 'mse', warm_start='true')\n",
    "est.fit(X_train, y_train)\n",
    "est.predict(X_test)\n",
    "print(\"Training set score: %f\" % est.score(X_train, y_train))      \n",
    "print(\"Test set score:     %f\" % est.score(X_test,  y_test))\n"
   ]
  },
  {
   "cell_type": "code",
   "execution_count": 214,
   "metadata": {},
   "outputs": [
    {
     "name": "stdout",
     "output_type": "stream",
     "text": [
      "0.9325667525199836\n",
      "7.61418388653\n"
     ]
    }
   ],
   "source": [
    "from sklearn.metrics import r2_score, mean_squared_error\n",
    "from math import sqrt\n",
    "pr = est.predict(X_test)\n",
    "r2= r2_score(y_test, pr)  \n",
    "rmse= sqrt (mean_squared_error(y_test, pr))\n",
    "print r2\n",
    "print rmse "
   ]
  },
  {
   "cell_type": "code",
   "execution_count": 221,
   "metadata": {},
   "outputs": [
    {
     "name": "stdout",
     "output_type": "stream",
     "text": [
      "-2.3111996976526807\n",
      "42.3531477684\n"
     ]
    },
    {
     "data": {
      "text/plain": [
       "array([26.31072261, 26.31072261, 26.31072261, 26.31072261, 26.31072261,\n",
       "       26.31072261, 26.31072261, 26.31072261, 26.31072261, 26.31072261,\n",
       "       26.31072261, 26.31072261, 26.31072261, 26.31072261, 26.31072261,\n",
       "       26.31072261, 26.31072261, 26.31072261, 26.31072261, 26.31072261,\n",
       "       28.17726388, 28.17726388, 28.17726388, 28.17726388, 28.17726388,\n",
       "       28.17726388, 28.17726388, 28.17726388, 28.17726388, 28.17726388,\n",
       "       28.17726388, 28.17726388, 28.17726388, 28.17726388, 28.17726388,\n",
       "       28.17726388, 28.17726388, 28.17726388, 28.17726388, 28.17726388,\n",
       "       18.73472232, 18.73472232, 18.73472232, 18.73472232, 18.73472232,\n",
       "       18.73472232, 18.73472232, 18.73472232, 18.73472232, 18.73472232,\n",
       "       18.73472232, 18.73472232, 18.73472232, 18.73472232, 18.73472232,\n",
       "       18.73472232, 18.73472232, 18.73472232, 18.73472232, 18.73472232,\n",
       "       25.095323  , 25.095323  , 25.095323  , 25.095323  , 25.095323  ,\n",
       "       25.095323  , 25.095323  , 25.095323  , 25.095323  , 25.095323  ,\n",
       "       25.095323  , 25.095323  , 25.095323  , 25.095323  , 25.095323  ,\n",
       "       25.095323  , 25.095323  , 25.095323  , 25.095323  , 25.095323  ,\n",
       "       26.37706069, 26.37706069, 26.37706069, 26.37706069, 26.37706069,\n",
       "       26.37706069, 26.37706069, 26.37706069, 26.37706069, 26.37706069,\n",
       "       26.37706069, 26.37706069, 26.37706069, 26.37706069, 26.37706069,\n",
       "       26.37706069, 26.37706069, 26.37706069, 26.37706069, 26.37706069])"
      ]
     },
     "execution_count": 221,
     "metadata": {},
     "output_type": "execute_result"
    }
   ],
   "source": [
    "ext_pr_gb=est.predict(ext_X)\n",
    "r2_ext_gb=r2_score(ext_Y,ext_pr_gb)\n",
    "rmse_ext_gb=sqrt(mean_squared_error(ext_Y,ext_pr_gb))\n",
    "print r2_ext_gb\n",
    "print rmse_ext_gb\n",
    "ext_pr_gb[0:100]"
   ]
  },
  {
   "cell_type": "code",
   "execution_count": null,
   "metadata": {},
   "outputs": [],
   "source": []
  },
  {
   "cell_type": "code",
   "execution_count": 216,
   "metadata": {},
   "outputs": [
    {
     "data": {
      "image/png": "[encoded data removed]",
      "text/plain": [
       "<matplotlib.figure.Figure at 0x1a193f0d10>"
      ]
     },
     "metadata": {},
     "output_type": "display_data"
    }
   ],
   "source": [
    "from matplotlib import pyplot, figure\n",
    "est.feature_importances_\n",
    "pyplot.bar(range(len(est.feature_importances_)), est.feature_importances_)\n",
    "fig = pyplot.gcf()\n",
    "fig.set_size_inches(18.5, 10.5)\n",
    "pyplot.xticks(np.arange(0, 23, step=1))\n",
    "pyplot.show()\n",
    "#imp_features.shape"
   ]
  },
  {
   "cell_type": "code",
   "execution_count": null,
   "metadata": {},
   "outputs": [],
   "source": []
  },
  {
   "cell_type": "code",
   "execution_count": 217,
   "metadata": {},
   "outputs": [
    {
     "name": "stdout",
     "output_type": "stream",
     "text": [
      "['alcohol_*C1_electrostatic_charge', 'alcohol_*C1_exposed_area', 'alcohol_electronegativity', 'alcohol_primary', 'alcohol_secondary', 'alcohol_tertiary', 'alcohol_cyclic ', 'alcohol_4-membered_ring', 'alcohol_5-membered_ring', 'alcohol_6-membered_ring', 'alcohol_7-membered_ring', 'alcohol_benzylic', 'alcohol_allylic', 'alcohol_homobenzylic', 'alcohol_homoallylic', 'alcohol_alpha-carbonyl', 'alcohol_beta_carbonyl', 'alcohol_hemiacetal', 'alcohol_alpha amino', 'base_*N1_exposed_area', 'sulfonyl_fluoride_*S1_electrostatic_charge', 'sulfonyl_fluoride_*F1_electrostatic_charge', 'sulfonyl_fluoride_*O1_electrostatic_charge']\n",
      "Test set score:     -2.311200\n"
     ]
    }
   ],
   "source": [
    "external = pd.read_csv('../datasets/external_set_chem.csv')\n",
    "name= external.keys().tolist()\n",
    "inp = name[:-1]\n",
    "print (inp)\n",
    "external[0:10]\n",
    "X_ext= external[inp]\n",
    "Y_ext= external['yield']\n",
    "\n",
    "est.predict(X_ext)\n",
    "\n",
    "print(\"Test set score:     %f\" % est.score(X_ext,Y_ext))"
   ]
  },
  {
   "cell_type": "code",
   "execution_count": 218,
   "metadata": {},
   "outputs": [
    {
     "name": "stdout",
     "output_type": "stream",
     "text": [
      "-2.3111996976526807\n",
      "42.3531477684\n"
     ]
    }
   ],
   "source": [
    "from sklearn.metrics import r2_score, mean_squared_error\n",
    "from math import sqrt\n",
    "pr1 = est.predict(X_ext)\n",
    "r2= r2_score(Y_ext, pr1)  \n",
    "rmse= sqrt (mean_squared_error(Y_ext, pr1))\n",
    "print r2\n",
    "print rmse"
   ]
  },
  {
   "cell_type": "code",
   "execution_count": null,
   "metadata": {},
   "outputs": [],
   "source": []
  },
  {
   "cell_type": "code",
   "execution_count": 219,
   "metadata": {},
   "outputs": [
    {
     "name": "stdout",
     "output_type": "stream",
     "text": [
      "Training set score: 0.815343\n",
      "Test set score:     0.770933\n"
     ]
    }
   ],
   "source": [
    "from sklearn.tree import DecisionTreeRegressor\n",
    "from sklearn.ensemble import AdaBoostRegressor\n",
    "\n",
    "rng = np.random.RandomState(1)\n",
    "\n",
    "regr_1 = DecisionTreeRegressor(max_depth=10)\n",
    "\n",
    "regr_2 = AdaBoostRegressor(DecisionTreeRegressor(max_depth=4),\n",
    "                          n_estimators=100, learning_rate=3, loss='exponential', random_state=rng)\n",
    "\n",
    "regr_1.fit(X_train, y_train)\n",
    "regr_2.fit(X_train, y_train)\n",
    "\n",
    "# Predict\n",
    "y_1 = regr_1.predict(X_test)\n",
    "y_2 = regr_2.predict(X_test)\n",
    "\n",
    "print(\"Training set score: %f\" % regr_2.score(X_train, y_train))      \n",
    "print(\"Test set score:     %f\" % regr_2.score(X_test,  y_test))"
   ]
  },
  {
   "cell_type": "code",
   "execution_count": null,
   "metadata": {},
   "outputs": [],
   "source": []
  },
  {
   "cell_type": "code",
   "execution_count": 220,
   "metadata": {},
   "outputs": [
    {
     "name": "stdout",
     "output_type": "stream",
     "text": [
      "0.7709327987538227\n",
      "14.0335574958\n"
     ]
    }
   ],
   "source": [
    "from sklearn.metrics import r2_score, mean_squared_error\n",
    "from math import sqrt\n",
    "pr_2 = regr_2.predict(X_test)\n",
    "r2= r2_score(y_test, pr_2)  \n",
    "rmse= sqrt (mean_squared_error(y_test, pr_2))\n",
    "print r2\n",
    "print rmse "
   ]
  },
  {
   "cell_type": "code",
   "execution_count": null,
   "metadata": {},
   "outputs": [],
   "source": []
  },
  {
   "cell_type": "code",
   "execution_count": null,
   "metadata": {},
   "outputs": [],
   "source": []
  },
  {
   "cell_type": "code",
   "execution_count": null,
   "metadata": {},
   "outputs": [],
   "source": []
  },
  {
   "cell_type": "code",
   "execution_count": null,
   "metadata": {},
   "outputs": [],
   "source": []
  },
  {
   "cell_type": "code",
   "execution_count": null,
   "metadata": {},
   "outputs": [],
   "source": []
  },
  {
   "cell_type": "code",
   "execution_count": null,
   "metadata": {},
   "outputs": [],
   "source": []
  }
 ],
 "metadata": {
  "kernelspec": {
   "display_name": "Python 2",
   "language": "python",
   "name": "python2"
  },
  "language_info": {
   "codemirror_mode": {
    "name": "ipython",
    "version": 2
   },
   "file_extension": ".py",
   "mimetype": "text/x-python",
   "name": "python",
   "nbconvert_exporter": "python",
   "pygments_lexer": "ipython2",
   "version": "2.7.14"
  }
 },
 "nbformat": 4,
 "nbformat_minor": 2
}
